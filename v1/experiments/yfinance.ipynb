{
 "cells": [
  {
   "cell_type": "code",
   "execution_count": 9,
   "metadata": {},
   "outputs": [
    {
     "name": "stderr",
     "output_type": "stream",
     "text": [
      "  0%|          | 0/505 [00:00<?, ?it/s]"
     ]
    },
    {
     "name": "stdout",
     "output_type": "stream",
     "text": [
      "[*********************100%***********************]  1 of 1 completed\n",
      "[*********************100%***********************]  1 of 1 completed\n",
      "[*********************100%***********************]  1 of 1 completed"
     ]
    },
    {
     "name": "stderr",
     "output_type": "stream",
     "text": [
      "  0%|          | 1/505 [00:01<10:14,  1.22s/it]"
     ]
    },
    {
     "name": "stdout",
     "output_type": "stream",
     "text": [
      "\n",
      "[*********************100%***********************]  1 of 1 completed\n"
     ]
    },
    {
     "name": "stderr",
     "output_type": "stream",
     "text": [
      "  0%|          | 1/505 [00:01<15:47,  1.88s/it]\n"
     ]
    },
    {
     "ename": "KeyboardInterrupt",
     "evalue": "",
     "output_type": "error",
     "traceback": [
      "\u001b[0;31m---------------------------------------------------------------------------\u001b[0m",
      "\u001b[0;31mKeyboardInterrupt\u001b[0m                         Traceback (most recent call last)",
      "Cell \u001b[0;32mIn[9], line 12\u001b[0m\n\u001b[1;32m     10\u001b[0m \u001b[39mfor\u001b[39;00m ticker \u001b[39min\u001b[39;00m tqdm(\u001b[39mopen\u001b[39m(\u001b[39m\"\u001b[39m\u001b[39m../old/tickers/sp500.txt\u001b[39m\u001b[39m\"\u001b[39m, \u001b[39m\"\u001b[39m\u001b[39mr\u001b[39m\u001b[39m\"\u001b[39m)\u001b[39m.\u001b[39mreadlines()):\n\u001b[1;32m     11\u001b[0m     yf\u001b[39m.\u001b[39mdownload(ticker, start\u001b[39m=\u001b[39mago_30d, end\u001b[39m=\u001b[39mago_30d \u001b[39m+\u001b[39m datetime\u001b[39m.\u001b[39mtimedelta(days\u001b[39m=\u001b[39m\u001b[39m7\u001b[39m), interval\u001b[39m=\u001b[39m\u001b[39m\"\u001b[39m\u001b[39m1m\u001b[39m\u001b[39m\"\u001b[39m)\n\u001b[0;32m---> 12\u001b[0m     yf\u001b[39m.\u001b[39;49mdownload(ticker, start\u001b[39m=\u001b[39;49mago_60d, end\u001b[39m=\u001b[39;49mcurr_date, interval\u001b[39m=\u001b[39;49m\u001b[39m\"\u001b[39;49m\u001b[39m2m\u001b[39;49m\u001b[39m\"\u001b[39;49m)\n\u001b[1;32m     13\u001b[0m     yf\u001b[39m.\u001b[39mdownload(ticker, start\u001b[39m=\u001b[39mago_730d, end\u001b[39m=\u001b[39mcurr_date, interval\u001b[39m=\u001b[39m\u001b[39m\"\u001b[39m\u001b[39m1h\u001b[39m\u001b[39m\"\u001b[39m)\n\u001b[1;32m     14\u001b[0m     \u001b[39mNone\u001b[39;00m\n",
      "File \u001b[0;32m~/dev/market-probe/venv/lib/python3.11/site-packages/yfinance/multi.py:131\u001b[0m, in \u001b[0;36mdownload\u001b[0;34m(tickers, start, end, actions, threads, ignore_tz, group_by, auto_adjust, back_adjust, repair, keepna, progress, period, show_errors, interval, prepost, proxy, rounding, timeout)\u001b[0m\n\u001b[1;32m    124\u001b[0m         _download_one_threaded(ticker, period\u001b[39m=\u001b[39mperiod, interval\u001b[39m=\u001b[39minterval,\n\u001b[1;32m    125\u001b[0m                                start\u001b[39m=\u001b[39mstart, end\u001b[39m=\u001b[39mend, prepost\u001b[39m=\u001b[39mprepost,\n\u001b[1;32m    126\u001b[0m                                actions\u001b[39m=\u001b[39mactions, auto_adjust\u001b[39m=\u001b[39mauto_adjust,\n\u001b[1;32m    127\u001b[0m                                back_adjust\u001b[39m=\u001b[39mback_adjust, repair\u001b[39m=\u001b[39mrepair, keepna\u001b[39m=\u001b[39mkeepna,\n\u001b[1;32m    128\u001b[0m                                progress\u001b[39m=\u001b[39m(progress \u001b[39mand\u001b[39;00m i \u001b[39m>\u001b[39m \u001b[39m0\u001b[39m), proxy\u001b[39m=\u001b[39mproxy,\n\u001b[1;32m    129\u001b[0m                                rounding\u001b[39m=\u001b[39mrounding, timeout\u001b[39m=\u001b[39mtimeout)\n\u001b[1;32m    130\u001b[0m     \u001b[39mwhile\u001b[39;00m \u001b[39mlen\u001b[39m(shared\u001b[39m.\u001b[39m_DFS) \u001b[39m<\u001b[39m \u001b[39mlen\u001b[39m(tickers):\n\u001b[0;32m--> 131\u001b[0m         _time\u001b[39m.\u001b[39msleep(\u001b[39m0.01\u001b[39m)\n\u001b[1;32m    133\u001b[0m \u001b[39m# download synchronously\u001b[39;00m\n\u001b[1;32m    134\u001b[0m \u001b[39melse\u001b[39;00m:\n\u001b[1;32m    135\u001b[0m     \u001b[39mfor\u001b[39;00m i, ticker \u001b[39min\u001b[39;00m \u001b[39menumerate\u001b[39m(tickers):\n",
      "\u001b[0;31mKeyboardInterrupt\u001b[0m: "
     ]
    }
   ],
   "source": [
    "from tqdm import tqdm\n",
    "import datetime\n",
    "import yfinance as yf\n",
    "\n",
    "curr_date = datetime.datetime.now()\n",
    "ago_30d = curr_date - datetime.timedelta(days=29)\n",
    "ago_60d = curr_date - datetime.timedelta(days=59)\n",
    "ago_730d = curr_date - datetime.timedelta(days=729)\n",
    "\n",
    "for ticker in tqdm(open(\"../old/tickers/sp500.txt\", \"r\").readlines()):\n",
    "    yf.download(ticker, start=ago_30d, end=ago_30d + datetime.timedelta(days=7), interval=\"1m\")\n",
    "    yf.download(ticker, start=ago_60d, end=curr_date, interval=\"2m\")\n",
    "    yf.download(ticker, start=ago_730d, end=curr_date, interval=\"1h\")\n",
    "    None"
   ]
  },
  {
   "cell_type": "code",
   "execution_count": 2,
   "metadata": {},
   "outputs": [],
   "source": [
    "# 30d - 1m (7d at a time)\n",
    "# 60d - 2m, 5m, 15m, 30m, 90m\n",
    "# 730d - 60m/1h\n",
    "# unlimited - 1d and above (1d, 5d, 1wk, 1mo, 3mo)"
   ]
  }
 ],
 "metadata": {
  "kernelspec": {
   "display_name": "venv",
   "language": "python",
   "name": "python3"
  },
  "language_info": {
   "codemirror_mode": {
    "name": "ipython",
    "version": 3
   },
   "file_extension": ".py",
   "mimetype": "text/x-python",
   "name": "python",
   "nbconvert_exporter": "python",
   "pygments_lexer": "ipython3",
   "version": "3.11.3"
  },
  "orig_nbformat": 4
 },
 "nbformat": 4,
 "nbformat_minor": 2
}
